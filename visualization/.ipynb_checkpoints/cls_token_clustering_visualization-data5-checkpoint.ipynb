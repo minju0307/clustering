{
 "cells": [
  {
   "cell_type": "code",
   "execution_count": 1,
   "id": "f30d52a6",
   "metadata": {},
   "outputs": [],
   "source": [
    "import numpy as np\n",
    "import matplotlib.pyplot as plt\n",
    "from sklearn.cluster import KMeans\n",
    "from sklearn.datasets import make_blobs\n",
    "import os\n",
    "from transformers import AutoModel, AutoTokenizer, ElectraForSequenceClassification\n",
    "import torch"
   ]
  },
  {
   "cell_type": "code",
   "execution_count": 2,
   "id": "d1a86e07",
   "metadata": {},
   "outputs": [],
   "source": [
    "np.random.seed(42)"
   ]
  },
  {
   "cell_type": "code",
   "execution_count": 3,
   "id": "9b963458",
   "metadata": {},
   "outputs": [
    {
     "name": "stdout",
     "output_type": "stream",
     "text": [
      "Requirement already satisfied: plotly in /home/mjk0307/myenv/lib/python3.8/site-packages (5.10.0)\r\n",
      "Requirement already satisfied: tenacity>=6.2.0 in /home/mjk0307/myenv/lib/python3.8/site-packages (from plotly) (8.0.1)\r\n"
     ]
    }
   ],
   "source": [
    "!pip install plotly"
   ]
  },
  {
   "cell_type": "code",
   "execution_count": 4,
   "id": "d0ffa4f7",
   "metadata": {},
   "outputs": [],
   "source": [
    "def cls_embedding(model_output):\n",
    "    last_hidden_states=model_output.hidden_states[-1]\n",
    "    cls_vector=last_hidden_states[:,0,:]\n",
    "    return cls_vector"
   ]
  },
  {
   "cell_type": "code",
   "execution_count": 5,
   "id": "86495cea",
   "metadata": {},
   "outputs": [],
   "source": [
    "#load model and tokenzier\n",
    "\n",
    "model_path = '../dev-test-model'\n",
    "model=ElectraForSequenceClassification.from_pretrained(model_path)\n",
    "tokenizer=AutoTokenizer.from_pretrained('beomi/KcELECTRA-base')"
   ]
  },
  {
   "cell_type": "code",
   "execution_count": 6,
   "id": "71b4f44e",
   "metadata": {},
   "outputs": [
    {
     "name": "stdout",
     "output_type": "stream",
     "text": [
      "['저는 무서워서 못하겠어요 뭐라고 이제와서 발을 빼겠다는 소리야 죄송합니다 정신차려 우린 이미 한 배를 탄 사이야 이 일이 잘못되면 너랑 나 둘 다 끝이라고 저는 시키신 대로 한 죄밖에 없어요 하 이거 완전 정신이 나갔군 내 손에 먼저 죽고 싶지 않으면 헛소리 말고 시키는 대로 해 더 이상 이 일에 끼고 싶지 않습니다 살려주세요 닥쳐 수 틀리면 네 아내와 자식도 영영 못보게 될 줄 알아', '홍길동 학생 오늘도 지각인가 대체 언제까지 지각할 거야 죄송합니다 자꾸 이러면 아무리 중간 기말고사 성적이 좋아도 F 줄 수밖에 없어 교수님 저 졸업해야 합니다 제발 F만은 졸업을 해도 이런 성실성을 가지고 어떻게 취직을 하겠다는 건지 모르겠군 한 번만 더 지각하면 그때는 경고없이 바로 F를 줄 거야 알아서 잘 행동할 거라 믿네', '길동씨 왜이리 전화가 안돼 아무리 공휴일이라고 해도 지금 점심 다되어 가는데 아직도 잔건 아니지 아 아닙니다 별건 아니고 우리팀에서 지난 회식 때 갔던 식당 번호 있지 그거 좀 줘봐 잠시만 기다려주세요 바로 찾아 보겠습니다 아니다 그냥 길동씨가 내이름으로 예약 좀 해줘 내 이름으로 내일 7시 8명 예약하면 돼 아 넵', '야 이혼하면 니 딸 니가 키워 뭐 니 딸 쟤를 나 혼자 낳았니 애새끼가 말도 안 통하고 멍청한 게 누굴 닮았는데 뭐 너 지금 그거 나한테 하는 소리냐 너도 니가 말 안 통하고 대가리 나쁜 건 아는구나 아무튼 나 쟤 못 키우니까 니가 키우든가 해 뭐 엄마 아빠 싸우지 마 으앙 쟤만 아니었어도 내가 너랑 이러고 있지 않았을텐데 내가 미쳤지', '하 홍길동씨 자리에 좀 앉아 봐요 네 아 알겠습니다 지금 장난해요 화장실 갔다 온다며 네 화장실 다녀왔는데요 화장실을 1시간을 다녀와요 회사에서 일하는 시간에 정신 차려요 여기는 직장이야 아무리 인턴이라도 지켜야할 게 있는 거에요 네 알겠습니다 기분 나빠요 진짜 기분 나빠야할 사람은 사장님이에요 매일같이 하루에 두 시간씩 화장실에 쳐박혀 있는 직원한테 돈을 줘야 하는 알겠습니다 고치겠습니다 고깝게 듣지 말고 새겨들어요 제발', '길동씨 이번에도 2번 환자한테 실수했더라 네 아직 일이 익숙하지가 않아서 하 아직까지 익숙하지 않으면 대체 언제 익숙해지는 거야 죄송합니다 그래도 앞으로는 잘 해보겠습니다 니가 제정신이야 머리는 대체 뒀다가 어디에 쓰는거야 사람 죽일거야 살인자 될거냐고 아닙니다 아닙니다', '길동아 이번 시험 너무 어렵지 않았어 아니 나는 쉬웠는데 왜 나는 망한 거 같아 이번에 너는 맨날 망하잖아 뭘 새삼스럽게 그래 말을 왜 그렇게 해 틀린 말도 아닌데 뭘 내가 볼 땐 너는 머리가 안 좋아서 공부는 포기하는게 좋을거야 말 다 했어 아직 다 안했지 솔직히 말하면 너는 IQ가 돌고래 수준인거 같은데 왜 공부하는지 모르겠네 말이 너무 심하다 머리 나쁜걸 인정도 못하고 자존심은 센데 머리만 나빠서 고생이네', '아 진짜 과제양 좆되네 교수님은 내가 자기 수업만 듣는 줄 아나 교양 과제면서 더럽게 복잡하고 더럽게 많네 심지어 그 교수님 학점도 짜게 준대잖아 아이씨 이번 학기 진짜 빡세네 나 이번에 장학금 무조건 받아야하는데 에라이 과제하러 카페나 가자', '어 길동씨 네 과장님 어 저번주 업무 잘 봤네 근데 추가적으로 할게 좀 남아서 말이야 다음주부터 야근 다시 해야할 것 같아 그래 요즘 업무가 너무 많아서 말이야 어 저번주도 수고했는데 앞으로도 수고 좀 해줘 저 과장님 근데 저번주 야근수당이 안들어온 것 같아서요 뭐 추가 수당 하 원래 그런건 수당을 못받지 그래도 매일 야근했는데 수당 받을 능력도 안되면서 무슨 이번주 업무나 제대로 해 그래 너무 많은걸 바라면 원래 있던 것도 뺏기게 돼', '저기 제가 아까부터 지켜봤는데요 네 저를요 왜요 아 이상한 사람 아니에요 그게 마음에 들어서 그런데 혹시 번호 좀 알려주실 수 있을까요 아 죄송해요 안 될 것 같아요 장난하지 말고 진짜 맘에 들어서 그래요 아니 그게 아니고 뭘 그렇게 비싸게 굴어요 저 그렇게 별로예요 제가 남자친구가 있어서요 아 뭐야 씨발년이 진작 말할 것이지']\n",
      "['020121', '000001', '020811', '020819', '000001', '020811', '020819', '000001', '020811', '020819']\n",
      "\n"
     ]
    }
   ],
   "source": [
    "#load dataset\n",
    "\n",
    "data_path='./data5'\n",
    "files=os.listdir(data_path)\n",
    "data={\"text\":[], \"label\":[]}\n",
    "\n",
    "for file in files:\n",
    "    file_path=os.path.join(data_path, file)\n",
    "    with open(file_path, 'r', encoding='utf-8') as f:\n",
    "        lines=f.readlines()\n",
    "        for line in lines:\n",
    "            data[\"text\"].append(line.split('\\t')[0])\n",
    "            data[\"label\"].append(line.split('\\t')[1].strip())\n",
    "\n",
    "print(data[\"text\"][:10])\n",
    "print(data[\"label\"][:10])\n",
    "print()"
   ]
  },
  {
   "cell_type": "code",
   "execution_count": null,
   "id": "7cbbac34",
   "metadata": {},
   "outputs": [],
   "source": [
    "# create sentence embedding\n",
    "\n",
    "corpus = data[\"text\"]\n",
    "\n",
    "encoded_input=tokenizer(corpus, padding=True, truncation=True, return_tensors='pt')\n",
    "\n",
    "with torch.no_grad():\n",
    "    model_output=model(**encoded_input, output_hidden_states=True)\n",
    "\n",
    "sentence_embeddings=cls_embedding(model_output)\n",
    "\n",
    "print(sentence_embeddings)"
   ]
  },
  {
   "cell_type": "code",
   "execution_count": null,
   "id": "9372588d",
   "metadata": {},
   "outputs": [],
   "source": [
    "num_clusters = 5\n",
    "clustering_model = KMeans(n_clusters=num_clusters)\n",
    "clustering_model.fit(sentence_embeddings)\n",
    "k_means_labels = clustering_model.labels_\n",
    "k_means_cluster_centers = clustering_model.cluster_centers_"
   ]
  },
  {
   "cell_type": "code",
   "execution_count": null,
   "id": "be8b7435",
   "metadata": {},
   "outputs": [],
   "source": [
    "print(k_means_labels)"
   ]
  },
  {
   "cell_type": "code",
   "execution_count": null,
   "id": "0542491c",
   "metadata": {},
   "outputs": [],
   "source": [
    "len(set(k_means_labels))"
   ]
  },
  {
   "cell_type": "code",
   "execution_count": null,
   "id": "6bac9752",
   "metadata": {},
   "outputs": [],
   "source": [
    "print(k_means_cluster_centers)"
   ]
  },
  {
   "cell_type": "code",
   "execution_count": null,
   "id": "354f1eb2",
   "metadata": {},
   "outputs": [],
   "source": [
    "# results of k-means clustering\n",
    "clustered_sentences = [[] for i in range(num_clusters)]\n",
    "clustered_labels = [[] for i in range(num_clusters)]\n",
    "\n",
    "for sentence_id, cluster_id in enumerate(k_means_labels):\n",
    "    clustered_sentences[cluster_id].append(corpus[sentence_id])\n",
    "    clustered_labels[cluster_id].append(data[\"label\"][sentence_id])"
   ]
  },
  {
   "cell_type": "code",
   "execution_count": null,
   "id": "e74584a5",
   "metadata": {},
   "outputs": [],
   "source": [
    "for i, cluster in enumerate(clustered_sentences):\n",
    "    print(\"Cluster \", i)\n",
    "    print(\"cluster에 포함된 sentence 개수: \", len(cluster))\n",
    "    print(f\"협박 데이터 {clustered_labels[i].count('020121')}개, {clustered_labels[i].count('020121')/len(cluster)*100:.4f}%\")\n",
    "    print(f\"갈취 및 공갈 데이터 {clustered_labels[i].count('02051')}개, {clustered_labels[i].count('02051') / len(cluster)*100:.4f}%\")\n",
    "    print(f\"직장 내 괴롭힘 데이터 {clustered_labels[i].count('020811')}개, {clustered_labels[i].count('020811') / len(cluster)*100:.4f}%\")\n",
    "    print(f\"기타 괴롭힘 데이터 {clustered_labels[i].count('020819')}개, {clustered_labels[i].count('020819') / len(cluster)*100:.4f}%\")\n",
    "    print(f\"일반 대화 데이터 {clustered_labels[i].count('000001')}개, {clustered_labels[i].count('000001') / len(cluster)*100:.4f}%\")\n",
    "    print()\n"
   ]
  },
  {
   "cell_type": "code",
   "execution_count": null,
   "id": "bcb6a7d1",
   "metadata": {},
   "outputs": [],
   "source": [
    "import numpy as np\n",
    "from sklearn.manifold import TSNE\n",
    "\n",
    "X=sentence_embeddings\n",
    "\n",
    "X_embedded=TSNE(n_components=2).fit_transform(X)"
   ]
  },
  {
   "cell_type": "code",
   "execution_count": null,
   "id": "1fcc983e",
   "metadata": {},
   "outputs": [],
   "source": [
    "import pandas as pd\n",
    "\n",
    "df_embeddings = pd.DataFrame(X_embedded)\n",
    "df_embeddings = df_embeddings.rename(columns={0:'x',1:'y'})"
   ]
  },
  {
   "cell_type": "code",
   "execution_count": null,
   "id": "b7f0b01d",
   "metadata": {},
   "outputs": [],
   "source": [
    "df_embeddings.head()"
   ]
  },
  {
   "cell_type": "code",
   "execution_count": null,
   "id": "2a2f124f",
   "metadata": {},
   "outputs": [],
   "source": [
    "df_embeddings=df_embeddings.assign(label=k_means_labels)\n",
    "df_embeddings=df_embeddings.assign(text=corpus)\n",
    "df_embeddings=df_embeddings.assign(ref_label=data['label'])"
   ]
  },
  {
   "cell_type": "code",
   "execution_count": null,
   "id": "6061ab17",
   "metadata": {},
   "outputs": [],
   "source": [
    "df_embeddings.head()"
   ]
  },
  {
   "cell_type": "code",
   "execution_count": null,
   "id": "7f3aba35",
   "metadata": {},
   "outputs": [],
   "source": [
    "df_embeddings=df_embeddings.sort_values(by=[\"ref_label\"])\n",
    "df_embeddings.head()"
   ]
  },
  {
   "cell_type": "code",
   "execution_count": null,
   "id": "4d807fac",
   "metadata": {},
   "outputs": [],
   "source": [
    "import plotly.express as px\n",
    "\n",
    "df_embeddings[\"label\"] = df_embeddings[\"label\"].astype(str)\n",
    "df_embeddings[\"ref_label\"] = df_embeddings[\"ref_label\"].astype(str)\n",
    "\n",
    "fig = px.scatter(\n",
    "    df_embeddings, x='x', y='y',\n",
    "    color='ref_label', labels={'color': 'ref_label'},\n",
    "    hover_data=['text'], title = 'cls token Visualization 1 (reference label)')\n",
    "fig.show()"
   ]
  },
  {
   "cell_type": "code",
   "execution_count": null,
   "id": "a2bbb010",
   "metadata": {},
   "outputs": [],
   "source": [
    "import plotly.express as px\n",
    "\n",
    "df_embeddings[\"label\"] = df_embeddings[\"label\"].astype(str)\n",
    "df_embeddings[\"ref_label\"] = df_embeddings[\"ref_label\"].astype(str)\n",
    "\n",
    "fig = px.scatter(\n",
    "    df_embeddings, x='x', y='y',\n",
    "    color='label', labels={'color': 'label'},\n",
    "    hover_data=['text'], title = 'cls token Visualization 1 (clustering label)')\n",
    "fig.show()"
   ]
  }
 ],
 "metadata": {
  "kernelspec": {
   "display_name": "Python 3 (ipykernel)",
   "language": "python",
   "name": "python3"
  },
  "language_info": {
   "codemirror_mode": {
    "name": "ipython",
    "version": 3
   },
   "file_extension": ".py",
   "mimetype": "text/x-python",
   "name": "python",
   "nbconvert_exporter": "python",
   "pygments_lexer": "ipython3",
   "version": "3.8.10"
  }
 },
 "nbformat": 4,
 "nbformat_minor": 5
}
