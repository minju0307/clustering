{
 "cells": [
  {
   "cell_type": "code",
   "execution_count": 2,
   "id": "f30d52a6",
   "metadata": {},
   "outputs": [],
   "source": [
    "import numpy as np\n",
    "import matplotlib.pyplot as plt\n",
    "from sklearn.cluster import KMeans\n",
    "from sklearn.datasets import make_blobs\n",
    "import os\n",
    "from transformers import AutoModel, AutoTokenizer, ElectraForSequenceClassification\n",
    "import torch"
   ]
  },
  {
   "cell_type": "code",
   "execution_count": 3,
   "id": "d1a86e07",
   "metadata": {},
   "outputs": [],
   "source": [
    "np.random.seed(42)"
   ]
  },
  {
   "cell_type": "code",
   "execution_count": 4,
   "id": "9b963458",
   "metadata": {},
   "outputs": [
    {
     "name": "stdout",
     "output_type": "stream",
     "text": [
      "Requirement already satisfied: plotly in /home/mjk0307/myenv/lib/python3.8/site-packages (5.10.0)\r\n",
      "Requirement already satisfied: tenacity>=6.2.0 in /home/mjk0307/myenv/lib/python3.8/site-packages (from plotly) (8.0.1)\r\n"
     ]
    }
   ],
   "source": [
    "!pip install plotly"
   ]
  },
  {
   "cell_type": "code",
   "execution_count": 8,
   "id": "d0ffa4f7",
   "metadata": {},
   "outputs": [],
   "source": [
    "def cls_embedding(model_output):\n",
    "    last_hidden_states=model_output.hidden_states[-1]\n",
    "    cls_vector=last_hidden_states[:,0,:]\n",
    "    return cls_vector"
   ]
  },
  {
   "cell_type": "code",
   "execution_count": 9,
   "id": "86495cea",
   "metadata": {},
   "outputs": [],
   "source": [
    "#load model and tokenzier\n",
    "\n",
    "model_path = '../dev-test-model'\n",
    "model=ElectraForSequenceClassification.from_pretrained(model_path)\n",
    "tokenizer=AutoTokenizer.from_pretrained('beomi/KcELECTRA-base')"
   ]
  },
  {
   "cell_type": "code",
   "execution_count": 10,
   "id": "71b4f44e",
   "metadata": {},
   "outputs": [
    {
     "name": "stdout",
     "output_type": "stream",
     "text": [
      "['엄마 우리 집 물고기가 왜 이렇게 줄었지 어디 보자 아이코 여행 다녀오는 동안 애들이 배가 많이 고팠나 물고기 어디 간 거야 움 작은 물고기들이 많이 죽었나 본데 응 죽었다고 흑흑 안 돼 안 돼 내 친구들이란 말이야 울지 마 물고기들이 또 많아질 거야 불쌍해 물고기들 죽어서 하늘나라 간 거야 그럼 하늘나라에서 물고기들 잘 놀고 있을 거야 걱정하지 마 응 엄마', '선생님 저는 사는 게 죽을 만큼 힘들었어요 그러셨군요 네 어릴 땐 엄마 아빠 폭언으로 싸우는 거 보고 자라서 정서적으로 불안정했고요 정말 힘드셨겠어요 정말 죽고 싶은 날들이 많았어요 저 같아도 그랬을 것 같아요 그런데 선생님 이제 저도 엄마가 되었으니 맘대로 죽을 수도 없잖아요 그게 더 힘들어요 그런 마음 이해합니다 애들 보고 살아야죠', '야 이 씨발년아 이따가 옥상으로 올라와 내가 뭐 잘 못했어 미친년 잘못도 모르니 처맞아야지 잘못했어 미안해 옥상으로 안 오면 알지 네 동생이 끌려갈 거야 동생은 건들지만 안돼 그럼 알아먹은 건가 동생 살리고 싶으면 조용히 와라 아 알겠어 올라갈게 너 잘못한 거 적어서 와 안 그러면 동생도 끌고 갈 테니', '홍 과장 어디 갔나 네 잠시 외근 나가셨습니다 그래 잘됐네 다들 이리 모여보게 네 부장님 앞으로 홍 과장에게 어떤 업무나 일정 공유하지 말도록 홍 과장은 너무 기본이 안 되어 있어 그래도 상사인데요 그럼 나는 길동 씨 상사 아닌가 시키면 시키는 대로 해 알겠어 네 알겠습니다 부장님 네 부장님 지시대로 하겠습니다', '이봐 길순 씨 길순 씨는 볼 때마다 더 이뻐지는 것 같아 아 안녕하세요 이리 앉아봐 젊은 사람이 뭘 그렇게 바빠 죄송해요 저는 가봐야할 곳이 있어서요 이봐 그러면 내가 무안해지잖아 정말요 제가 지금 바빠서 너 이럴거야 그러면 안 될텐데 내가 집주인인거 잊었어 아니요 잘 알고 있죠 그동안 이 말을 못했는데 집세를 슬슬 인상해볼까 네 갑자기요 제가 돌봐야할 가족들도 있는데 집세마저 올리시면 그러니까 좀 앉아봐 길순 씨 하는 것 보고 올릴지 말지 생각 해보게 아 네', '친구야 너 차 바꾼 거 이쁘더라 외제차 비싼 거 아니냐 큰맘 먹고 새 차 뽑았다 어때 완전 내 스타일이던데 나 한번 빌려주면 안되냐 무슨 차를 빌려달래 카드 현금 차는 빌려주면 안 된다잖아 야 무슨 말을 그렇게 하냐 왜 그래 왜 정색을 해 너 대학교 다닐 때 월세 부족하대서 내가 돈 빌려줬던 건 뭐냐 그랬었지 그땐 네가 먼저 빌려준다며 그건 빌려 간 거 아니야 그니까 나도 이번에 차 좀 빌려보자고 알겠어 조심히 타야 돼', '아줌마 제가 지금 여기 앉으려고 했잖아요 네가 앉으려고 한지 안 한 지 내가 어떻게 알아 먼저 앉으면 임자지 아줌마는 저쪽에 있었는데 이리로 가방을 던져서 자리를 잡으셨잖아요 창피하지도 않으세요 머야 이 년이 왜 욕을 하세요 야 이년아 넌 어미 아비도 없냐 나이 든 사람이 좀 앉으면 그런가 보다 할 것이지 아주머니도 경로 우대받으실만한 나이는 아니시거든요 야 이년아 뚫린 입이라고 막말하냐 아가리를 눈까지 찢어버릴까 보다 뭐라고요 어떤 놈이 데려갈란가 그놈 팔자도 더럽지 어디서 저런 싹수없는 년이 다 있담 너 한 번만 더 내 눈에 띄면 아주 머리채를 다 뜯어놓을 거야 이년아', '아버지 저 오피스텔 소유권 좀 넘겨주세요 뭐 아직 이르다 언제까지 제가 기다려야 해요 너 이놈 새끼 아비가 해주길 바라지 말고 혼자 뭔가 해보려고 해봐 좀 제가 왜요 너 인마 보면 뭐해보려고도 안 하고 그럼 너 오피스텔 못 넘겨준다 뭐라고요 왜 말을 바꾸세요 아버지 진짜 이렇게까지 안 하려고 했는데 너 너 그게 뭐 하는 거야 뭐긴 뭐예요 집에 불 붙이는 거지 이대로 이 집이랑 같이 불타 죽으실래요 아님 오피스텔 넘겨주실래요', '이 간호사 잠깐 들어와 봐요 네 선생님 무슨 일이신가요 저쪽 길 건너에 가면 구두 닦는 가게가 있거든 거기 가서 내구도 좀 닦아와요 제가 그런 일까지 해야 하나요 그럼 간호조무사가 이런저런 일을 다하는 거지 그럼 월급 그냥 받으려고 했어요 아니 그게 아니라 제 업무는 의사선생님의 진료를 보조하는 것이지 이런 개인적인 일은 좀 뭐야 나의 모든 일을 보조하는 거지 네까짓 게 뭐라고 따지고 들어 말씀이 너무 심하세요 너 같은 건 길바닥에 널렸어 고분고분하니 말 잘 듣게 생겨서 뽑아놨더니 아주 싹수가 없구먼 네 알겠습니다 구두 닦아 오겠습니다', '아주머니 네 새댁 아까 왔었잖아요 네 이모님 집에 가서 보니 사과가 한 개 썩었더라고요 아구 저런 바꿔줄게요 네 이모님 혹시 다른 사과도 잘 보세요 그래야겠네 네 감사합니다 수고하세요 네 고마워요 그리고 미안해요']\n",
      "['000001', '000001', '020121', '020811', '02051', '02051', '020121', '020121', '020811', '000001']\n",
      "\n"
     ]
    }
   ],
   "source": [
    "#load dataset\n",
    "\n",
    "data_path='./data1'\n",
    "files=os.listdir(data_path)\n",
    "data={\"text\":[], \"label\":[]}\n",
    "\n",
    "for file in files:\n",
    "    file_path=os.path.join(data_path, file)\n",
    "    with open(file_path, 'r', encoding='utf-8') as f:\n",
    "        lines=f.readlines()\n",
    "        for line in lines:\n",
    "            data[\"text\"].append(line.split('\\t')[0])\n",
    "            data[\"label\"].append(line.split('\\t')[1].strip())\n",
    "\n",
    "print(data[\"text\"][:10])\n",
    "print(data[\"label\"][:10])\n",
    "print()"
   ]
  },
  {
   "cell_type": "code",
   "execution_count": null,
   "id": "7cbbac34",
   "metadata": {},
   "outputs": [],
   "source": [
    "# create sentence embedding\n",
    "\n",
    "corpus = data[\"text\"]\n",
    "\n",
    "encoded_input=tokenizer(corpus, padding=True, truncation=True, return_tensors='pt')\n",
    "\n",
    "with torch.no_grad():\n",
    "    model_output=model(**encoded_input, output_hidden_states=True)\n",
    "\n",
    "sentence_embeddings=cls_embedding(model_output)\n",
    "\n",
    "print(sentence_embeddings)"
   ]
  },
  {
   "cell_type": "code",
   "execution_count": null,
   "id": "9372588d",
   "metadata": {},
   "outputs": [],
   "source": [
    "num_clusters = 5\n",
    "clustering_model = KMeans(n_clusters=num_clusters)\n",
    "clustering_model.fit(sentence_embeddings)\n",
    "k_means_labels = clustering_model.labels_\n",
    "k_means_cluster_centers = clustering_model.cluster_centers_"
   ]
  },
  {
   "cell_type": "code",
   "execution_count": null,
   "id": "be8b7435",
   "metadata": {},
   "outputs": [],
   "source": [
    "print(k_means_labels)"
   ]
  },
  {
   "cell_type": "code",
   "execution_count": null,
   "id": "0542491c",
   "metadata": {},
   "outputs": [],
   "source": [
    "len(set(k_means_labels))"
   ]
  },
  {
   "cell_type": "code",
   "execution_count": null,
   "id": "6bac9752",
   "metadata": {},
   "outputs": [],
   "source": [
    "print(k_means_cluster_centers)"
   ]
  },
  {
   "cell_type": "code",
   "execution_count": null,
   "id": "354f1eb2",
   "metadata": {},
   "outputs": [],
   "source": [
    "# results of k-means clustering\n",
    "clustered_sentences = [[] for i in range(num_clusters)]\n",
    "clustered_labels = [[] for i in range(num_clusters)]\n",
    "\n",
    "for sentence_id, cluster_id in enumerate(k_means_labels):\n",
    "    clustered_sentences[cluster_id].append(corpus[sentence_id])\n",
    "    clustered_labels[cluster_id].append(data[\"label\"][sentence_id])"
   ]
  },
  {
   "cell_type": "code",
   "execution_count": null,
   "id": "e74584a5",
   "metadata": {},
   "outputs": [],
   "source": [
    "for i, cluster in enumerate(clustered_sentences):\n",
    "    print(\"Cluster \", i)\n",
    "    print(\"cluster에 포함된 sentence 개수: \", len(cluster))\n",
    "    print(f\"협박 데이터 {clustered_labels[i].count('020121')}개, {clustered_labels[i].count('020121')/len(cluster)*100:.4f}%\")\n",
    "    print(f\"갈취 및 공갈 데이터 {clustered_labels[i].count('02051')}개, {clustered_labels[i].count('02051') / len(cluster)*100:.4f}%\")\n",
    "    print(f\"직장 내 괴롭힘 데이터 {clustered_labels[i].count('020811')}개, {clustered_labels[i].count('020811') / len(cluster)*100:.4f}%\")\n",
    "    print(f\"기타 괴롭힘 데이터 {clustered_labels[i].count('020819')}개, {clustered_labels[i].count('020819') / len(cluster)*100:.4f}%\")\n",
    "    print(f\"일반 대화 데이터 {clustered_labels[i].count('000001')}개, {clustered_labels[i].count('000001') / len(cluster)*100:.4f}%\")\n",
    "    print()\n"
   ]
  },
  {
   "cell_type": "code",
   "execution_count": null,
   "id": "bcb6a7d1",
   "metadata": {},
   "outputs": [],
   "source": [
    "import numpy as np\n",
    "from sklearn.manifold import TSNE\n",
    "\n",
    "X=sentence_embeddings\n",
    "\n",
    "X_embedded=TSNE(n_components=2).fit_transform(X)"
   ]
  },
  {
   "cell_type": "code",
   "execution_count": null,
   "id": "1fcc983e",
   "metadata": {},
   "outputs": [],
   "source": [
    "import pandas as pd\n",
    "\n",
    "df_embeddings = pd.DataFrame(X_embedded)\n",
    "df_embeddings = df_embeddings.rename(columns={0:'x',1:'y'})"
   ]
  },
  {
   "cell_type": "code",
   "execution_count": null,
   "id": "b7f0b01d",
   "metadata": {},
   "outputs": [],
   "source": [
    "df_embeddings.head()"
   ]
  },
  {
   "cell_type": "code",
   "execution_count": null,
   "id": "2a2f124f",
   "metadata": {},
   "outputs": [],
   "source": [
    "df_embeddings=df_embeddings.assign(label=k_means_labels)\n",
    "df_embeddings=df_embeddings.assign(text=corpus)\n",
    "df_embeddings=df_embeddings.assign(ref_label=data['label'])"
   ]
  },
  {
   "cell_type": "code",
   "execution_count": null,
   "id": "6061ab17",
   "metadata": {},
   "outputs": [],
   "source": [
    "df_embeddings.head()"
   ]
  },
  {
   "cell_type": "code",
   "execution_count": null,
   "id": "4d807fac",
   "metadata": {},
   "outputs": [],
   "source": [
    "import plotly.express as px\n",
    "\n",
    "df_embeddings[\"label\"] = df_embeddings[\"label\"].astype(str)\n",
    "df_embeddings[\"ref_label\"] = df_embeddings[\"ref_label\"].astype(str)\n",
    "\n",
    "fig = px.scatter(\n",
    "    df_embeddings, x='x', y='y',\n",
    "    color='ref_label', labels={'color': 'ref_label'},\n",
    "    hover_data=['text'], title = 'cls token Visualization 1 (reference label)')\n",
    "fig.show()"
   ]
  },
  {
   "cell_type": "code",
   "execution_count": null,
   "id": "a2bbb010",
   "metadata": {},
   "outputs": [],
   "source": [
    "import plotly.express as px\n",
    "\n",
    "df_embeddings[\"label\"] = df_embeddings[\"label\"].astype(str)\n",
    "df_embeddings[\"ref_label\"] = df_embeddings[\"ref_label\"].astype(str)\n",
    "\n",
    "fig = px.scatter(\n",
    "    df_embeddings, x='x', y='y',\n",
    "    color='label', labels={'color': 'label'},\n",
    "    hover_data=['text'], title = 'cls token Visualization 1 (clustering label)')\n",
    "fig.show()"
   ]
  }
 ],
 "metadata": {
  "kernelspec": {
   "display_name": "Python 3 (ipykernel)",
   "language": "python",
   "name": "python3"
  },
  "language_info": {
   "codemirror_mode": {
    "name": "ipython",
    "version": 3
   },
   "file_extension": ".py",
   "mimetype": "text/x-python",
   "name": "python",
   "nbconvert_exporter": "python",
   "pygments_lexer": "ipython3",
   "version": "3.8.10"
  }
 },
 "nbformat": 4,
 "nbformat_minor": 5
}
